{
 "cells": [
  {
   "cell_type": "markdown",
   "metadata": {},
   "source": [
    "CURSO: Análisis Geoespacial (Sem02-2019)                                                                                   \n",
    "Profesor: Edier Aristizábal (evaristizabalg@unal.edu.co)                                                                   \n",
    "Curso website: https://unvirtual.medellin.unal.edu.co/course/view.php?id=579"
   ]
  },
  {
   "cell_type": "markdown",
   "metadata": {},
   "source": [
    "# 15: Regresión Lineal"
   ]
  },
  {
   "cell_type": "markdown",
   "metadata": {},
   "source": [
    "La Regresión Lineal (RL) asume que las variables predictoras tienen una distribución Gaussiana y que no son correlacionables, por lo tanto es importante en el análisis de datos explorar estas condiciones. Adicionalmente, hay que tener en cuenta que los modelos de RL son modelos geométricos, es decir que se basan en calcular las distancias entre la predicción y los datos reales, por lo tanto es importante normalizar o estandarizar los datos. "
   ]
  },
  {
   "cell_type": "code",
   "execution_count": null,
   "metadata": {},
   "outputs": [],
   "source": [
    "Para iniciar con la implementación de los modelos RL, primero se importan las librerías a utilizar."
   ]
  },
  {
   "cell_type": "code",
   "execution_count": 1,
   "metadata": {},
   "outputs": [],
   "source": [
    "from sklearn.model_selection import KFold\n",
    "from sklearn.model_selection import cross_val_score\n",
    "from sklearn.model_selection import train_test_split\n",
    "from sklearn.metrics import r2_score, mean_squared_error,mean_absolute_error\n",
    "import matplotlib.pyplot as plt\n",
    "import numpy as np"
   ]
  },
  {
   "cell_type": "markdown",
   "metadata": {},
   "source": [
    "En este Taller utilizaremos la base de datos Boston disponible en la librería Sklearn para problemas de regresión. Por lo tanto la cargamos, separamos en datos de entrenamiento y datos de validación con un 30%, y definimos como variables predictoras *X*, y variable dependiente *y*."
   ]
  },
  {
   "cell_type": "code",
   "execution_count": 3,
   "metadata": {},
   "outputs": [],
   "source": [
    "from sklearn.datasets import load_boston\n",
    "boston=load_boston()\n",
    "X=boston.data\n",
    "y=boston.target\n",
    "x_train, x_test, y_train, y_test=train_test_split(X, y, test_size=0.3)"
   ]
  },
  {
   "cell_type": "markdown",
   "metadata": {},
   "source": [
    "## Método OLS de la librería *statsmodels*"
   ]
  },
  {
   "cell_type": "markdown",
   "metadata": {},
   "source": [
    "Aunque la librería mas completa para *machine learning* en Python es Sklearn, existen otras librerías con funciones interesantes, un ejemplo es la librería *statsmodels*. Esta librería permite para los modelos RL obtener un resumen de la implementación del modelo muy útil. A continuación se detalla.\n",
    "\n",
    "Se importa la librearía como *sm*. Para su implementación, a diferencia de Sklearn, se entrena y posteriormente se aplica la función *fit*. \n",
    "\n",
    "Finalmente, podemos imprimir con la función *summary* el resultado de la implementación, con métricas muy importantes que permiten conocer el ajuste a los datos."
   ]
  },
  {
   "cell_type": "code",
   "execution_count": 5,
   "metadata": {},
   "outputs": [
    {
     "name": "stdout",
     "output_type": "stream",
     "text": [
      "                            OLS Regression Results                            \n",
      "==============================================================================\n",
      "Dep. Variable:                      y   R-squared:                       0.960\n",
      "Model:                            OLS   Adj. R-squared:                  0.959\n",
      "Method:                 Least Squares   F-statistic:                     634.0\n",
      "Date:                Wed, 15 Jan 2020   Prob (F-statistic):          8.27e-230\n",
      "Time:                        14:35:23   Log-Likelihood:                -1064.2\n",
      "No. Observations:                 354   AIC:                             2154.\n",
      "Df Residuals:                     341   BIC:                             2205.\n",
      "Df Model:                          13                                         \n",
      "Covariance Type:            nonrobust                                         \n",
      "==============================================================================\n",
      "                 coef    std err          t      P>|t|      [0.025      0.975]\n",
      "------------------------------------------------------------------------------\n",
      "x1            -0.1168      0.043     -2.735      0.007      -0.201      -0.033\n",
      "x2             0.0428      0.017      2.475      0.014       0.009       0.077\n",
      "x3            -0.0229      0.075     -0.304      0.761      -0.171       0.125\n",
      "x4             3.9856      1.056      3.774      0.000       1.908       6.063\n",
      "x5            -3.9355      3.960     -0.994      0.321     -11.725       3.854\n",
      "x6             5.9729      0.374     15.952      0.000       5.236       6.709\n",
      "x7            -0.0074      0.017     -0.445      0.657      -0.040       0.025\n",
      "x8            -0.9857      0.235     -4.201      0.000      -1.447      -0.524\n",
      "x9             0.2007      0.078      2.561      0.011       0.047       0.355\n",
      "x10           -0.0103      0.004     -2.310      0.021      -0.019      -0.002\n",
      "x11           -0.4055      0.134     -3.025      0.003      -0.669      -0.142\n",
      "x12            0.0158      0.003      4.782      0.000       0.009       0.022\n",
      "x13           -0.3688      0.065     -5.675      0.000      -0.497      -0.241\n",
      "==============================================================================\n",
      "Omnibus:                      120.467   Durbin-Watson:                   2.072\n",
      "Prob(Omnibus):                  0.000   Jarque-Bera (JB):              695.029\n",
      "Skew:                           1.301   Prob(JB):                    1.19e-151\n",
      "Kurtosis:                       9.352   Cond. No.                     8.35e+03\n",
      "==============================================================================\n",
      "\n",
      "Warnings:\n",
      "[1] Standard Errors assume that the covariance matrix of the errors is correctly specified.\n",
      "[2] The condition number is large, 8.35e+03. This might indicate that there are\n",
      "strong multicollinearity or other numerical problems.\n"
     ]
    }
   ],
   "source": [
    "import statsmodels.api as sm\n",
    "lm=sm.OLS(y_train, x_train).fit()\n",
    "print(lm.summary())"
   ]
  },
  {
   "cell_type": "markdown",
   "metadata": {},
   "source": [
    "Es posible obtener los valores de Y con el modelo entrenado, utilizando los datos de entrenamiento y los datos de validación. Ademas se puede comparar visualmente el ajuste con los datos reales de validación y las predicciones con los datos de validación."
   ]
  },
  {
   "cell_type": "code",
   "execution_count": 7,
   "metadata": {},
   "outputs": [
    {
     "data": {
      "image/png": "[encoded data removed]",
      "text/plain": [
       "<Figure size 432x288 with 1 Axes>"
      ]
     },
     "metadata": {
      "needs_background": "light"
     },
     "output_type": "display_data"
    }
   ],
   "source": [
    "y_train_pred=lm.predict(x_train)\n",
    "y_test_pred=lm.predict(x_test)\n",
    "plt.scatter(y_test,y_test_pred)\n",
    "plt.title('Datos Modelados vs Datos Reales')\n",
    "plt.xlabel('Valor real')\n",
    "plt.ylabel('Modelo');"
   ]
  },
  {
   "cell_type": "markdown",
   "metadata": {},
   "source": [
    "El error residual, es decir la diferencia entre los datos de predicción y los datos reales, se distribuye de la siguiente manera para este ejemplo."
   ]
  },
  {
   "cell_type": "code",
   "execution_count": 28,
   "metadata": {},
   "outputs": [
    {
     "data": {
      "image/png": "[encoded data removed]",
      "text/plain": [
       "<Figure size 432x288 with 1 Axes>"
      ]
     },
     "metadata": {
      "needs_background": "light"
     },
     "output_type": "display_data"
    }
   ],
   "source": [
    "plt.plot(lm.resid,'o')\n",
    "plt.title('Plot error residual')\n",
    "plt.xlabel('Número de observaciones')\n",
    "plt.ylabel('Error residual');"
   ]
  },
  {
   "cell_type": "markdown",
   "metadata": {},
   "source": [
    "El histograma señala un distribución parecida a normal, lo cual es importante en los modelos de RL."
   ]
  },
  {
   "cell_type": "code",
   "execution_count": 31,
   "metadata": {},
   "outputs": [
    {
     "data": {
      "image/png": "[encoded data removed]",
      "text/plain": [
       "<Figure size 432x288 with 1 Axes>"
      ]
     },
     "metadata": {
      "needs_background": "light"
     },
     "output_type": "display_data"
    }
   ],
   "source": [
    "plt.hist(lm.resid, density=True)\n",
    "plt.title('Plot error residual')\n",
    "plt.xlabel('Error residual');"
   ]
  },
  {
   "cell_type": "markdown",
   "metadata": {},
   "source": [
    "A continuación se calcula algunas métricas utilizadas en los problemas de regresión, tanto para los datos de entrenamiento, como para los datos de validación. Lo cual permite observar si el modelo presenta problemas de *Bias* o de *overfitting*."
   ]
  },
  {
   "cell_type": "code",
   "execution_count": 13,
   "metadata": {},
   "outputs": [
    {
     "name": "stdout",
     "output_type": "stream",
     "text": [
      "TRAIN MAE: 3.190239003672459\n",
      "TEST MAE: 3.5275507110072293\n"
     ]
    }
   ],
   "source": [
    "print('TRAIN MAE:',mean_absolute_error(y_train,y_train_pred))\n",
    "print('TEST MAE:',mean_absolute_error(y_test,y_test_pred))"
   ]
  },
  {
   "cell_type": "code",
   "execution_count": 16,
   "metadata": {},
   "outputs": [
    {
     "name": "stdout",
     "output_type": "stream",
     "text": [
      "Train RMSE: 4.859808687822449\n",
      "Test RMSE: 5.119951174205673\n"
     ]
    }
   ],
   "source": [
    "print('Train RMSE:',np.sqrt(mean_squared_error(y_train,y_train_pred)))\n",
    "print('Test RMSE:',np.sqrt(mean_squared_error(y_test,y_test_pred)))"
   ]
  },
  {
   "cell_type": "code",
   "execution_count": null,
   "metadata": {},
   "outputs": [],
   "source": [
    "print('R2 Train:',lm.rsquared(y_train,y_train_pred))\n",
    "print('R2 Test:',lm.rsquared(y_test,y_test_pred))"
   ]
  },
  {
   "cell_type": "markdown",
   "metadata": {},
   "source": [
    "## Regresión Lineal con Sklearn"
   ]
  },
  {
   "cell_type": "markdown",
   "metadata": {},
   "source": [
    "Para implementar los problemas de RL con Sklearn se utiliza el siguiente procedimiento."
   ]
  },
  {
   "cell_type": "code",
   "execution_count": null,
   "metadata": {},
   "outputs": [],
   "source": [
    "from sklearn.linear_model import LinearRegression"
   ]
  },
  {
   "cell_type": "markdown",
   "metadata": {},
   "source": [
    "Se instancia el modelo a utilizar, en este caso *LinearRegression* se ajusta a los datos, y finalmente se aplica a los datos de validación para la predicción y conocer el ajuste. Como resultados se pueden obtener el intercepto y los coeficientes de cada variable predictora."
   ]
  },
  {
   "cell_type": "code",
   "execution_count": 51,
   "metadata": {},
   "outputs": [
    {
     "name": "stdout",
     "output_type": "stream",
     "text": [
      "Intercepto: 34.33409594393511\n",
      "Coeficientes: [-9.41252682e-02  5.72941297e-02 -1.17959446e-03  2.75352371e+00\n",
      " -1.89792057e+01  3.85440454e+00 -5.66414331e-03 -1.54908014e+00\n",
      "  2.54555049e-01 -7.83084350e-03 -8.93916242e-01  1.03079632e-02\n",
      " -4.83491114e-01]\n"
     ]
    }
   ],
   "source": [
    "model = LinearRegression()\n",
    "model.fit(x_train,y_train)\n",
    "y_pred = model.predict(x_test)\n",
    "print('Intercepto:',model.intercept_)\n",
    "print('Coeficientes:',model.coef_)"
   ]
  },
  {
   "cell_type": "markdown",
   "metadata": {},
   "source": [
    "Algunas métricas que se pueden implementar desde *Sklearn* son:"
   ]
  },
  {
   "cell_type": "code",
   "execution_count": 52,
   "metadata": {},
   "outputs": [
    {
     "name": "stdout",
     "output_type": "stream",
     "text": [
      "R2: 0.7634955906523349\n",
      "R2: 0.7634955906523349\n",
      "MSE: 23.534284246784058\n",
      "MAE: 3.4467610795433186\n"
     ]
    }
   ],
   "source": [
    "print('R2:',model.score(x_test,y_test))\n",
    "print('R2:',r2_score(y_test,y_pred))\n",
    "print('MSE:',mean_squared_error(y_test,y_pred))\n",
    "print('MAE:',mean_absolute_error(y_test,y_pred))"
   ]
  },
  {
   "cell_type": "markdown",
   "metadata": {},
   "source": [
    "También se puede obtener el ajuste visual."
   ]
  },
  {
   "cell_type": "code",
   "execution_count": 20,
   "metadata": {},
   "outputs": [
    {
     "data": {
      "image/png": "[encoded data removed]",
      "text/plain": [
       "<matplotlib.figure.Figure at 0x1aa6453a438>"
      ]
     },
     "metadata": {
      "needs_background": "light"
     },
     "output_type": "display_data"
    }
   ],
   "source": [
    "plt.scatter(y_test,y_pred)\n",
    "plt.title('Datos Modelados vs Datos Reales')\n",
    "plt.xlabel('Valor real')\n",
    "plt.ylabel('Modelo');"
   ]
  },
  {
   "cell_type": "markdown",
   "metadata": {},
   "source": [
    "Con los datos de entrenamiento se puede implementar el *cross validation* y conocer el ajuste del modelo y su varianza."
   ]
  },
  {
   "cell_type": "code",
   "execution_count": 53,
   "metadata": {},
   "outputs": [
    {
     "name": "stdout",
     "output_type": "stream",
     "text": [
      "[ 0.63919994  0.71386698  0.58702344  0.07923081 -0.25294154]\n",
      "0.35327592439588124\n"
     ]
    }
   ],
   "source": [
    "kfold = KFold(n_splits=5, random_state=7)\n",
    "results = cross_val_score(model, X_train, y_train, cv=kfold, scoring='r2')\n",
    "print(results)\n",
    "print(results.mean())"
   ]
  },
  {
   "cell_type": "markdown",
   "metadata": {},
   "source": [
    "Se obtiene como promedio un valor muy bajor, pero es debido a su gran dispersión. Lo cual se puede observar cuando se modifica el número de *split*."
   ]
  },
  {
   "cell_type": "code",
   "execution_count": 54,
   "metadata": {
    "scrolled": true
   },
   "outputs": [
    {
     "name": "stdout",
     "output_type": "stream",
     "text": [
      "[ 0.73376082  0.4730725  -1.00631454  0.64113984  0.54766046  0.73640292\n",
      "  0.37828386 -0.12922703 -0.76843243  0.4189435 ]\n",
      "0.2025289900605492\n"
     ]
    }
   ],
   "source": [
    "kfold = KFold(n_splits=10, random_state=7)\n",
    "results = cross_val_score(model, X, y, cv=kfold, scoring='r2')\n",
    "print(results)\n",
    "print(results.mean())"
   ]
  },
  {
   "cell_type": "markdown",
   "metadata": {},
   "source": [
    "A continuación se presentan los dos modelos de RL con penalización mas conocidos, denominados Lasso (L1) y Ridge (L2)."
   ]
  },
  {
   "cell_type": "markdown",
   "metadata": {},
   "source": [
    "# Regularización"
   ]
  },
  {
   "cell_type": "markdown",
   "metadata": {},
   "source": [
    "Uno de las herramientas para reducir los problemas de *overfitting* se refieren a la regularización. En los siguientes ejemplos vamos a observar la aplicación de los métodos de Ridge y Lasso, y el comportamiento del hiperparámetro Lamba para ambos casos.\n",
    "\n",
    "Inicialmente importamos las librerías:"
   ]
  },
  {
   "cell_type": "code",
   "execution_count": 4,
   "metadata": {
    "collapsed": true
   },
   "outputs": [],
   "source": [
    "from sklearn.linear_model import LinearRegression\n",
    "from sklearn.linear_model import Ridge\n",
    "from sklearn.linear_model import Lasso\n",
    "import numpy as np\n",
    "import matplotlib.pyplot as plt"
   ]
  },
  {
   "cell_type": "markdown",
   "metadata": {},
   "source": [
    "Vamos a trabajar con la base de datos de Sklearn denominada *boston*."
   ]
  },
  {
   "cell_type": "code",
   "execution_count": 5,
   "metadata": {},
   "outputs": [
    {
     "name": "stdout",
     "output_type": "stream",
     "text": [
      "(506, 13)\n",
      "(506,)\n"
     ]
    }
   ],
   "source": [
    "from sklearn.datasets import load_boston\n",
    "X,y=load_boston(return_X_y=True)\n",
    "print(X.shape)\n",
    "print(y.shape)"
   ]
  },
  {
   "cell_type": "code",
   "execution_count": 6,
   "metadata": {},
   "outputs": [
    {
     "name": "stdout",
     "output_type": "stream",
     "text": [
      "Linear regression score: 0.7406077428649427\n"
     ]
    }
   ],
   "source": [
    "lr=LinearRegression()\n",
    "lr.fit(X, y)\n",
    "lr_score = lr.score(X,y)\n",
    "print('Linear regression score:', lr_score)"
   ]
  },
  {
   "cell_type": "code",
   "execution_count": 8,
   "metadata": {},
   "outputs": [
    {
     "data": {
      "image/png": "[encoded data removed]",
      "text/plain": [
       "<Figure size 432x288 with 1 Axes>"
      ]
     },
     "metadata": {
      "needs_background": "light"
     },
     "output_type": "display_data"
    }
   ],
   "source": [
    "plt.plot(lr.coef_,alpha=0.4,linestyle='none',marker='o',markersize=7,color='green',label='LR')\n",
    "plt.xlabel('Variables',fontsize=16)\n",
    "plt.ylabel('Magnitud de coeficientes',fontsize=16)\n",
    "plt.legend(fontsize=13,loc=4)\n",
    "plt.show()"
   ]
  },
  {
   "cell_type": "code",
   "execution_count": 9,
   "metadata": {},
   "outputs": [
    {
     "name": "stdout",
     "output_type": "stream",
     "text": [
      "[-1.07170557e-01  4.63952195e-02  2.08602395e-02  2.68856140e+00\n",
      " -1.77957587e+01  3.80475246e+00  7.51061703e-04 -1.47575880e+00\n",
      "  3.05655038e-01 -1.23293463e-02 -9.53463555e-01  9.39251272e-03\n",
      " -5.25466633e-01]\n"
     ]
    }
   ],
   "source": [
    "print(lr.coef_)"
   ]
  },
  {
   "cell_type": "markdown",
   "metadata": {},
   "source": [
    "En la figura y matriz anterior se observan los pesos de las 13 variables obtenidas por métodos de regresión linear sin ningún tipo de penalización.\n",
    "\n",
    "A continuación se implementarán sobre los mismos datos el modelo Ridge y Lasso, los cuales penalizan a traves del hiperparámetro lambda los pesos de cada una de las variables."
   ]
  },
  {
   "cell_type": "markdown",
   "metadata": {},
   "source": [
    "### Ridge regression"
   ]
  },
  {
   "cell_type": "code",
   "execution_count": 11,
   "metadata": {
    "scrolled": true
   },
   "outputs": [
    {
     "name": "stdout",
     "output_type": "stream",
     "text": [
      "Ridge score_001: 0.7406072669874482\n",
      "Ridge score_1: 0.7388294987673955\n",
      "Ridge score_100: 0.7178124385677699\n"
     ]
    }
   ],
   "source": [
    "rr001 = Ridge(alpha=0.01)\n",
    "rr001.fit(X, y)\n",
    "Ridge_score_001 = rr001.score(X,y)\n",
    "print('Ridge score_001:', Ridge_score_001)\n",
    "\n",
    "rr = Ridge()\n",
    "rr.fit(X, y)\n",
    "Ridge_score = rr.score(X,y)\n",
    "print('Ridge score_1:', Ridge_score)\n",
    "\n",
    "rr100 = Ridge(alpha=100)\n",
    "rr100.fit(X, y)\n",
    "Ridge_score_100 = rr100.score(X,y)\n",
    "print('Ridge score_100:', Ridge_score_100)\n"
   ]
  },
  {
   "cell_type": "code",
   "execution_count": 13,
   "metadata": {
    "scrolled": true
   },
   "outputs": [
    {
     "data": {
      "image/png": "[encoded data removed]",
      "text/plain": [
       "<Figure size 432x288 with 1 Axes>"
      ]
     },
     "metadata": {
      "needs_background": "light"
     },
     "output_type": "display_data"
    }
   ],
   "source": [
    "plt.plot(rr001.coef_,alpha=0.7,linestyle='none',marker='*',markersize=5,color='red',label=r'Ridge; $\\alpha = 0.01$',zorder=7) # zorder for ordering the markers\n",
    "plt.plot(rr.coef_,alpha=0.5,linestyle='none',marker='d',markersize=6,color='blue',label=r'Ridge; $\\alpha = 1$') # alpha here is for transparency\n",
    "plt.plot(rr100.coef_,alpha=0.4,linestyle='none',marker='o',markersize=7,color='green',label=r'Ridge; $\\alpha = 100$')\n",
    "plt.xlabel('Variables',fontsize=16)\n",
    "plt.ylabel('Magnitud de coeficientes',fontsize=16)\n",
    "plt.legend(fontsize=13,loc=4)\n",
    "plt.show()"
   ]
  },
  {
   "cell_type": "markdown",
   "metadata": {},
   "source": [
    "En la figura anterior del modelo Ridge. en el eje X están los índices de los coeficientes, el modelo tiene 13 variables iniciales. Para valores bajos de lambda (0.01), cuando los coeficientes son menos restringidos, la magnitud de los coeficientes es casi similar que para el modelo normal de regresión lineal. Para valores grandes (100), los coeficientes 3, 4 y 5 la magnitud es considerablemente menor comparada al modelo de regresión linear."
   ]
  },
  {
   "cell_type": "markdown",
   "metadata": {},
   "source": [
    "A continuación se implementa el modelo *ridge* utilizando la separación simple *train_test* y el *cross validation* para observar la diferencia de resultados entre los coeficientes y el ajuste con la RL normal y *Lasso*. En todos estos casos se utiliza por defecto un valor de *lambda* = 1. Los modelos de RL normal corresponde a cualquiera de los dos métodos, pero con un valor de *lambda*=0. Utilizando la curva de validación se puede obtener el valor óptimo que mejora el ajuste del modelo."
   ]
  },
  {
   "cell_type": "code",
   "execution_count": 60,
   "metadata": {},
   "outputs": [],
   "source": [
    "from sklearn.linear_model import Ridge\n",
    "model = Ridge()"
   ]
  },
  {
   "cell_type": "code",
   "execution_count": 61,
   "metadata": {},
   "outputs": [
    {
     "name": "stdout",
     "output_type": "stream",
     "text": [
      "Intercepto: 28.0262752082101\n",
      "Coeficientes: [-8.97936349e-02  5.79959042e-02 -3.81952780e-02  2.59403049e+00\n",
      " -9.74745413e+00  3.90387030e+00 -1.43145582e-02 -1.41260458e+00\n",
      "  2.35286370e-01 -8.70813283e-03 -7.99505049e-01  1.09316575e-02\n",
      " -4.89264002e-01]\n",
      "R2: 0.7628736799283028\n"
     ]
    }
   ],
   "source": [
    "model.fit(x_train,y_train)\n",
    "y_pred = model.predict(x_test)\n",
    "print('Intercepto:',model.intercept_)\n",
    "print('Coeficientes:',model.coef_)\n",
    "print('R2:',r2_score(y_test,y_pred))"
   ]
  },
  {
   "cell_type": "code",
   "execution_count": 62,
   "metadata": {},
   "outputs": [
    {
     "name": "stdout",
     "output_type": "stream",
     "text": [
      "[ 0.66089569  0.74094893  0.62923672  0.08530169 -0.17029513]\n",
      "0.38921758241023985\n"
     ]
    }
   ],
   "source": [
    "kfold = KFold(n_splits=5, random_state=1)\n",
    "results = cross_val_score(model, X, y, cv=kfold, scoring='r2')\n",
    "print(results)\n",
    "print(results.mean())"
   ]
  },
  {
   "cell_type": "markdown",
   "metadata": {},
   "source": [
    "Se observa un mayor ajuste con la separación simple, pero existe una gran varianza en los datos."
   ]
  },
  {
   "cell_type": "markdown",
   "metadata": {},
   "source": [
    "### LASSO Regression"
   ]
  },
  {
   "cell_type": "markdown",
   "metadata": {},
   "source": [
    "Este tipo de regularización (L1) puede reducir completamente la importancia de las variables hasta 0, por lo tanto no solamente se utiliza para reducir el sobreajuste en un modelo, sino ademas como método de selección de variables.. El parémetro por defecto de la regularización Lasso es 1. \n",
    "\n",
    "A continuación se implementará el modelo Lasso."
   ]
  },
  {
   "cell_type": "code",
   "execution_count": 16,
   "metadata": {
    "scrolled": false
   },
   "outputs": [
    {
     "name": "stdout",
     "output_type": "stream",
     "text": [
      "Lasso score para alpha=0.01 es 0.7401747367311462\n",
      "Número de variables utilizadas para alpha =0.01: 13\n",
      "[-1.05330983e-01  4.68329072e-02  6.77570009e-03  2.50607938e+00\n",
      " -1.44226291e+01  3.80918476e+00 -1.76057409e-03 -1.42229358e+00\n",
      "  2.98099885e-01 -1.26220655e-02 -9.17066833e-01  9.56558992e-03\n",
      " -5.31194326e-01]\n",
      "Lasso score para alpha=1 es 0.6825494617506651\n",
      "Número de variables utilizadas para alpha =1:  10\n",
      "[-0.06342255  0.04916867 -0.          0.         -0.          0.94678567\n",
      "  0.02092737 -0.66900864  0.26417501 -0.01520915 -0.72319901  0.00829117\n",
      " -0.76143296]\n",
      "Lasso score para alpha=100 es 0.22497922550751603\n",
      "Número de variables utilizadas para alpha =100: 2\n",
      "[-0.          0.         -0.          0.         -0.          0.\n",
      " -0.          0.         -0.         -0.02097192 -0.          0.00446643\n",
      " -0.        ]\n"
     ]
    }
   ],
   "source": [
    "lasso001 = Lasso(alpha=0.01, max_iter=10e5)\n",
    "lasso001.fit(X,y)\n",
    "lasso_score001=lasso001.score(X,y)\n",
    "coeff_used001 = np.sum(lasso001.coef_!=0)\n",
    "print (\"Lasso score para alpha=0.01 es\", lasso_score001) \n",
    "print (\"Número de variables utilizadas para alpha =0.01:\", coeff_used001)\n",
    "print(lasso001.coef_)\n",
    "\n",
    "lasso = Lasso()\n",
    "lasso.fit(X,y)\n",
    "lasso_score_1=lasso.score(X,y)\n",
    "coeff_used = np.sum(lasso.coef_!=0)\n",
    "print (\"Lasso score para alpha=1 es\", lasso_score_1) \n",
    "print (\"Número de variables utilizadas para alpha =1: \", coeff_used)\n",
    "print(lasso.coef_)\n",
    "\n",
    "lasso100 = Lasso(alpha=100, max_iter=10e5)\n",
    "lasso100.fit(X,y)\n",
    "lasso_score100=lasso100.score(X,y)\n",
    "coeff_used100 = np.sum(lasso100.coef_!=0)\n",
    "print (\"Lasso score para alpha=100 es\", lasso_score100) \n",
    "print (\"Número de variables utilizadas para alpha =100:\", coeff_used100)\n",
    "print(lasso100.coef_)"
   ]
  },
  {
   "cell_type": "markdown",
   "metadata": {},
   "source": [
    "En el caso anterior, cuando se incrementa el valor de lambda a 100, los pesos de los parámetros se reducen de tal forma que solo dos variables (11 y 12) permanecen con valores ligéramente diferentes a 0."
   ]
  },
  {
   "cell_type": "code",
   "execution_count": 15,
   "metadata": {},
   "outputs": [
    {
     "data": {
      "image/png": "[encoded data removed]",
      "text/plain": [
       "<Figure size 432x288 with 1 Axes>"
      ]
     },
     "metadata": {
      "needs_background": "light"
     },
     "output_type": "display_data"
    }
   ],
   "source": [
    "plt.plot(lasso001.coef_,alpha=0.7,linestyle='none',marker='*',markersize=5,color='red',label=r'Lasso; $\\alpha = 0.01$',zorder=7) # zorder for ordering the markers\n",
    "plt.plot(lasso.coef_,alpha=0.5,linestyle='none',marker='d',markersize=6,color='blue',label=r'Lasso; $\\alpha = 1$') # alpha here is for transparency\n",
    "plt.plot(lasso100.coef_,alpha=0.4,linestyle='none',marker='o',markersize=7,color='green',label=r'Lasso; $\\alpha = 100$')\n",
    "plt.xlabel('Variables',fontsize=16)\n",
    "plt.ylabel('Magnitud de coeficientes',fontsize=16)\n",
    "plt.legend(fontsize=13,loc=4)\n",
    "plt.show()"
   ]
  },
  {
   "cell_type": "markdown",
   "metadata": {},
   "source": [
    "De forma similar se implementa el RL tipo *lasso*."
   ]
  },
  {
   "cell_type": "code",
   "execution_count": 63,
   "metadata": {},
   "outputs": [],
   "source": [
    "from sklearn.linear_model import Lasso\n",
    "model = Lasso()"
   ]
  },
  {
   "cell_type": "code",
   "execution_count": 65,
   "metadata": {},
   "outputs": [
    {
     "name": "stdout",
     "output_type": "stream",
     "text": [
      "Intercepto: 38.202168185895495\n",
      "Coeficientes: [-0.03790178  0.0608616  -0.0045888   0.         -0.          1.007868\n",
      "  0.01097365 -0.78931757  0.21562959 -0.0116075  -0.63992023  0.00979854\n",
      " -0.73309521]\n",
      "R2: 0.715480373563341\n"
     ]
    }
   ],
   "source": [
    "model.fit(x_train,y_train)\n",
    "y_pred = model.predict(x_test)\n",
    "print('Intercepto:',model.intercept_)\n",
    "print('Coeficientes:',model.coef_)\n",
    "print('R2:',r2_score(y_test,y_pred))"
   ]
  },
  {
   "cell_type": "code",
   "execution_count": 64,
   "metadata": {},
   "outputs": [
    {
     "name": "stdout",
     "output_type": "stream",
     "text": [
      "[0.56156843 0.63385562 0.33456629 0.35466066 0.27459294]\n",
      "0.431848787926522\n"
     ]
    }
   ],
   "source": [
    "kfold = KFold(n_splits=5, random_state=1)\n",
    "results = cross_val_score(model, X, y, cv=kfold, scoring='r2')\n",
    "print(results)\n",
    "print(results.mean())"
   ]
  },
  {
   "cell_type": "markdown",
   "metadata": {},
   "source": [
    "Similares resultados en términos de varianza para el modelo *lasso*, sin embargo se observa un valor mayor de ajuste para la *cross validation*. en este aso es muy importante elaborar la curva de entrenamiento y entender como el modelo aprende de acuerdo con los datos."
   ]
  }
 ],
 "metadata": {
  "kernelspec": {
   "display_name": "Python 3",
   "language": "python",
   "name": "python3"
  },
  "language_info": {
   "codemirror_mode": {
    "name": "ipython",
    "version": 3
   },
   "file_extension": ".py",
   "mimetype": "text/x-python",
   "name": "python",
   "nbconvert_exporter": "python",
   "pygments_lexer": "ipython3",
   "version": "3.7.0"
  },
  "toc": {
   "base_numbering": 1,
   "nav_menu": {},
   "number_sections": true,
   "sideBar": true,
   "skip_h1_title": false,
   "title_cell": "Table of Contents",
   "title_sidebar": "Contents",
   "toc_cell": false,
   "toc_position": {},
   "toc_section_display": true,
   "toc_window_display": false
  }
 },
 "nbformat": 4,
 "nbformat_minor": 4
}
